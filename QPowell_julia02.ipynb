{
 "cells": [
  {
   "cell_type": "markdown",
   "metadata": {},
   "source": [
    "University of Michigan - ROB 101 Computational Linear Algebra"
   ]
  },
  {
   "cell_type": "markdown",
   "metadata": {},
   "source": [
    "# Homework 2: Vectors, Matrices and Linear Systems\n",
    "\n",
    "**For this assignment, fill in the code blocks as directed to achieve the desired output.**"
   ]
  },
  {
   "cell_type": "markdown",
   "metadata": {},
   "source": [
    "### Problem 1.\n",
    "**a)  Create a row vector with a descriptive name that contains the numbers 1 through 10**"
   ]
  },
  {
   "cell_type": "code",
   "execution_count": 1,
   "metadata": {},
   "outputs": [
    {
     "data": {
      "text/plain": [
       "1×10 Matrix{Int64}:\n",
       " 1  2  3  4  5  6  7  8  9  10"
      ]
     },
     "execution_count": 1,
     "metadata": {},
     "output_type": "execute_result"
    }
   ],
   "source": [
    "#vectorName = #fill in this line with your code to build the vector\n",
    "\n",
    "Vec1 = [1 2 3 4 5 6 7 8 9 10]\n",
    "\n",
    "#output should be\n",
    "#1 2 3 4 5 6 7 8 9 10"
   ]
  },
  {
   "cell_type": "markdown",
   "metadata": {},
   "source": [
    "**b) Create a column vector that contains the numbers 11 through 20**"
   ]
  },
  {
   "cell_type": "code",
   "execution_count": 2,
   "metadata": {},
   "outputs": [
    {
     "data": {
      "text/plain": [
       "10-element Vector{Int64}:\n",
       " 11\n",
       " 12\n",
       " 13\n",
       " 14\n",
       " 15\n",
       " 16\n",
       " 17\n",
       " 18\n",
       " 19\n",
       " 20"
      ]
     },
     "execution_count": 2,
     "metadata": {},
     "output_type": "execute_result"
    }
   ],
   "source": [
    "#vectorName = #fill this in\n",
    "\n",
    "Vec2 = [11; 12; 13; 14; 15; 16; 17; 18; 19; 20]\n",
    "\n",
    "#output should be\n",
    "#11 \n",
    "#12\n",
    "#13\n",
    "#14\n",
    "#15\n",
    "#16\n",
    "#17\n",
    "#18\n",
    "#19\n",
    "#20"
   ]
  },
  {
   "cell_type": "markdown",
   "metadata": {},
   "source": [
    "**Note: Other ways to build vectors**\n",
    "* Range notation n:k:m will start at n and take steps of size k to reach m.  Use collect(n:k:m) to make it into a vector\n",
    "* A[:] converts a matrix A to a vector\n",
    "* diag() returns the diagonal elements of a matrix as a vector"
   ]
  },
  {
   "cell_type": "markdown",
   "metadata": {},
   "source": [
    "### Problem 2.\n",
    "Use indexing [] to return the \"panda\".  Keep in mind that Julia indexes refer to the location in a vector."
   ]
  },
  {
   "cell_type": "code",
   "execution_count": 3,
   "metadata": {},
   "outputs": [
    {
     "data": {
      "text/plain": [
       "\"panda\""
      ]
     },
     "execution_count": 3,
     "metadata": {},
     "output_type": "execute_result"
    }
   ],
   "source": [
    "animalsVector = [\"lemur\", \"elephant\", \"tiger\", \"panda\", \"zebra\", \"cuttlefish\"]\n",
    "myPanda = animalsVector[4]"
   ]
  },
  {
   "cell_type": "markdown",
   "metadata": {},
   "source": [
    "### Problem 3.\n",
    "**a) Create a matrix of zeros with 4 rows and 7 columns**"
   ]
  },
  {
   "cell_type": "code",
   "execution_count": 5,
   "metadata": {},
   "outputs": [
    {
     "data": {
      "text/plain": [
       "4×7 Matrix{Float64}:\n",
       " 0.0  0.0  0.0  0.0  0.0  0.0  0.0\n",
       " 0.0  0.0  0.0  0.0  0.0  0.0  0.0\n",
       " 0.0  0.0  0.0  0.0  0.0  0.0  0.0\n",
       " 0.0  0.0  0.0  0.0  0.0  0.0  0.0"
      ]
     },
     "execution_count": 5,
     "metadata": {},
     "output_type": "execute_result"
    }
   ],
   "source": [
    "zeroMat = zeros(4,7)"
   ]
  },
  {
   "cell_type": "markdown",
   "metadata": {},
   "source": [
    "**b) Create a matrix of random numbers from a standard normal distribution that will return (17, 8) from this code block**"
   ]
  },
  {
   "cell_type": "code",
   "execution_count": 10,
   "metadata": {
    "scrolled": true
   },
   "outputs": [
    {
     "data": {
      "text/plain": [
       "17×8 Matrix{Float64}:\n",
       " 0.617721   0.106443  0.415435   …  0.651696   0.0557008  0.496906\n",
       " 0.915      0.365365  0.0881913     0.29877    0.358347   0.476217\n",
       " 0.867309   0.684491  0.266962      0.986159   0.86754    0.799666\n",
       " 0.754289   0.667762  0.528298      0.332884   0.0230342  0.017658\n",
       " 0.38527    0.588045  0.291151      0.969781   0.792107   0.196108\n",
       " 0.828888   0.759559  0.148814   …  0.96405    0.907659   0.91737\n",
       " 0.0507813  0.72363   0.45106       0.901472   0.738588   0.177309\n",
       " 0.449213   0.443146  0.819769      0.367396   0.714136   0.82015\n",
       " 0.0898777  0.933678  0.117053      0.311208   0.1281     0.306203\n",
       " 0.954341   0.60772   0.457079      0.0388646  0.024285   0.5949\n",
       " 0.701708   0.193668  0.569451   …  0.932266   0.80338    0.55249\n",
       " 0.920437   0.845762  0.735444      0.720069   0.406097   0.031741\n",
       " 0.340766   0.863406  0.575645      0.518959   0.530978   0.300975\n",
       " 0.717595   0.716052  0.980421      0.741858   0.283028   0.443185\n",
       " 0.343585   0.158744  0.224098      0.20299    0.608773   0.965853\n",
       " 0.507537   0.446651  0.152873   …  0.948141   0.324072   0.580766\n",
       " 0.180401   0.421383  0.0630132     0.491613   0.818389   0.0234713"
      ]
     },
     "execution_count": 10,
     "metadata": {},
     "output_type": "execute_result"
    }
   ],
   "source": [
    "A = rand(17,8)#fill in.  Hint: check out the cell below for some helpful hints\n",
    "\n",
    "#(nrow, ncol) = size(A) #do not change this line!"
   ]
  },
  {
   "cell_type": "markdown",
   "metadata": {},
   "source": [
    "**Note:  Other ways to build matrices**\n",
    "* use hcat and vcat to concatenate vectors together horizontally or vertically\n",
    "* use ones() or zeros(m, n) to create a m by n matrix of either ones or zeros\n",
    "* use Diagonal(M) to create a diagonal matrix from a vector M\n",
    "* Random functions\n",
    "    * rand(m, n) makes an m by n matrix of random numbers from a uniform distribution 0-1\n",
    "    * randn(m, n) m by n matrix from a standard normal distribution\n",
    "    * rand(X, m, n) m by n matrix of random numbers in an array X\n",
    "* use reshape(X, m, n) to turn a vector X into a matrix size m by n\n",
    "* use repeat(X, m ,n) to repeat matrix X m times in the row direction and n times in the column direction"
   ]
  },
  {
   "cell_type": "markdown",
   "metadata": {},
   "source": [
    "### Problem 4.\n",
    "**a) return the biggest number in the matrix bigNumbers with indexing**"
   ]
  },
  {
   "cell_type": "code",
   "execution_count": 16,
   "metadata": {
    "scrolled": true
   },
   "outputs": [
    {
     "name": "stdout",
     "output_type": "stream",
     "text": [
      "Biggest: 43635, Smallest: 0\n"
     ]
    }
   ],
   "source": [
    "bigNumbers = [1 34 6 56 7 234 6 5; 3 43635 2 35 6 234 6 23; 235 56 2 46 56 3 234 6; 87 23 8 23 9 47 0 8]\n",
    "\n",
    "biggestNum = bigNumbers[2,2] #fill this in \n",
    "smallestNum = bigNumbers[4,7] #fill this in\n",
    "\n",
    "#return the biggest number and the smallest number in the matrix  \n",
    "println(\"Biggest: \", biggestNum, \", Smallest: \", smallestNum)"
   ]
  },
  {
   "cell_type": "markdown",
   "metadata": {},
   "source": [
    "**b) return the column containing the biggest number as a column vector**\n",
    "\n",
    "Hint:  In indexing, the colon : operator in place of a row or column indicates that all the rows/columns will be selected"
   ]
  },
  {
   "cell_type": "code",
   "execution_count": 17,
   "metadata": {},
   "outputs": [
    {
     "data": {
      "text/plain": [
       "4-element Vector{Int64}:\n",
       "    34\n",
       " 43635\n",
       "    56\n",
       "    23"
      ]
     },
     "execution_count": 17,
     "metadata": {},
     "output_type": "execute_result"
    }
   ],
   "source": [
    "bigColumn = bigNumbers[:,2] #fill this in"
   ]
  },
  {
   "cell_type": "markdown",
   "metadata": {},
   "source": [
    "**c) return the row containing the biggest number as a row vector**\n",
    "\n",
    "Hint:  You will probably need to transpose this vector.  Julia will automatically return a column vector, even though you are selecting a row, so you will need to transpose to convert it to a row vector with a single quote( ' ) after the vector statement.\n"
   ]
  },
  {
   "cell_type": "code",
   "execution_count": 18,
   "metadata": {},
   "outputs": [
    {
     "name": "stdout",
     "output_type": "stream",
     "text": [
      "Z = [1, 2, 3, 4] = [1, 2, 3, 4]\n",
      "Z' = [1 2 3 4]"
     ]
    },
    {
     "data": {
      "text/plain": [
       "1×4 adjoint(::Vector{Int64}) with eltype Int64:\n",
       " 1  2  3  4"
      ]
     },
     "execution_count": 18,
     "metadata": {},
     "output_type": "execute_result"
    },
    {
     "name": "stdout",
     "output_type": "stream",
     "text": [
      "\n"
     ]
    }
   ],
   "source": [
    "#Example of transposing\n",
    "@show Z = [1, 2, 3, 4]  #Z is a column vector\n",
    "@show Z'\n",
    "#Z' is a row vector"
   ]
  },
  {
   "cell_type": "code",
   "execution_count": 21,
   "metadata": {},
   "outputs": [
    {
     "name": "stdout",
     "output_type": "stream",
     "text": [
      "bigRow' = [3 43635 2 35 6 234 6 23]"
     ]
    },
    {
     "data": {
      "text/plain": [
       "1×8 adjoint(::Vector{Int64}) with eltype Int64:\n",
       " 3  43635  2  35  6  234  6  23"
      ]
     },
     "execution_count": 21,
     "metadata": {},
     "output_type": "execute_result"
    },
    {
     "name": "stdout",
     "output_type": "stream",
     "text": [
      "\n"
     ]
    }
   ],
   "source": [
    "bigRow = bigNumbers[2,:] \n",
    "@show bigRow'#fill this in"
   ]
  },
  {
   "cell_type": "markdown",
   "metadata": {},
   "source": [
    "#### Elements of an Array vs Scalars\n",
    "In Julia, there is a difference in type between a 1x1 matrix and a number.  Silly and annoying, but easy to fix.  By using indexing, we can take the number out of the matrix.  We simply use matrix[1]\n",
    "\n",
    "### Problem 5.\n",
    "Extract the number from the 1x1 matrix"
   ]
  },
  {
   "cell_type": "code",
   "execution_count": 22,
   "metadata": {},
   "outputs": [
    {
     "data": {
      "text/plain": [
       "7.01"
      ]
     },
     "execution_count": 22,
     "metadata": {},
     "output_type": "execute_result"
    }
   ],
   "source": [
    "tinyMatrix = [7.01]\n",
    "\n",
    "#output the number inside as a Float64\n",
    "numberInside = tinyMatrix[1,1] #fill in"
   ]
  },
  {
   "cell_type": "markdown",
   "metadata": {},
   "source": [
    "### Problem 6\n",
    "This 3 by 3 System of linear equations is from Problem 3 of the written homework.\n",
    "\n",
    "$$ 4x_1  = 8 $$\n",
    "$$  2x_1 - 10x_2 = -2 $$\n",
    "$$ x_1 + 2x_2 - x_3 = 4 $$\n",
    "\n",
    "**a) Create matrices A and b so that Ax = b represents this 3 by 3 system.  x = [x1; x2; x3]**"
   ]
  },
  {
   "cell_type": "code",
   "execution_count": 23,
   "metadata": {},
   "outputs": [
    {
     "name": "stdout",
     "output_type": "stream",
     "text": [
      "A = [4 0 0; 2 -10 0; 1 2 -1] = [4 0 0; 2 -10 0; 1 2 -1]\n",
      "b = [8; -2; 4] = [8, -2, 4]\n"
     ]
    },
    {
     "data": {
      "text/plain": [
       "3-element Vector{Int64}:\n",
       "  8\n",
       " -2\n",
       "  4"
      ]
     },
     "execution_count": 23,
     "metadata": {},
     "output_type": "execute_result"
    }
   ],
   "source": [
    "#replace each underscore with a number\n",
    "@show A = [4 0 0 ;  2 -10 0 ; 1 2 -1]\n",
    "@show b = [8 ; -2 ; 4]"
   ]
  },
  {
   "cell_type": "markdown",
   "metadata": {},
   "source": [
    "Now that you found the matrices that define this system, the algorithm below shows how we can use forward substitution in code to solve for the x vector.  \n",
    "**b) Display the vector x in the output window with whatever method you prefer**"
   ]
  },
  {
   "cell_type": "code",
   "execution_count": 24,
   "metadata": {},
   "outputs": [
    {
     "name": "stdout",
     "output_type": "stream",
     "text": [
      "x = [2.0, 0.6, -0.8]\n"
     ]
    },
    {
     "data": {
      "text/plain": [
       "3-element Vector{Float64}:\n",
       "  2.0\n",
       "  0.6\n",
       " -0.8"
      ]
     },
     "execution_count": 24,
     "metadata": {},
     "output_type": "execute_result"
    }
   ],
   "source": [
    "x = [0.0; 0.0; 0.0] #Initialize an empty x vector\n",
    "\n",
    "#This method does not scale to large problems, but it is super clear\n",
    "x[1]=b[1]/A[1,1]\n",
    "x[2]=(b[2]-A[2,1]*x[1])/A[2,2]\n",
    "x[3]=(b[3]-A[3,1]*x[1]-A[3,2]*x[2])/A[3,3]\n",
    ";\n",
    "@show x\n",
    "#add a line here that will display the vector x"
   ]
  },
  {
   "cell_type": "markdown",
   "metadata": {},
   "source": [
    "### Problem 7\n",
    "**Now, modify the algorithm above to work for a 5 by 5 system.**\n",
    "\n",
    "$$ 4x_1  = 8 $$\n",
    "$$  2x_1 - 10x_2 = -2 $$\n",
    "$$ x_1 + 2x_2 - x_3 = 4 $$\n",
    "$$ 4x_1 - x_2 - 3x_3 + x_4 = 7 $$\n",
    "$$ -2x_1 + 7x_2 + x_3 - 2x_4 - 6x_5 = 12 $$\n"
   ]
  },
  {
   "cell_type": "code",
   "execution_count": 25,
   "metadata": {},
   "outputs": [
    {
     "data": {
      "text/plain": [
       "5-element Vector{Int64}:\n",
       "  8\n",
       " -2\n",
       "  4\n",
       "  7\n",
       " 12"
      ]
     },
     "execution_count": 25,
     "metadata": {},
     "output_type": "execute_result"
    }
   ],
   "source": [
    "#first, declare your A and b\n",
    "A = [4 0 0 0 0; 2 -10 0 0 0; 1 2 -1 0 0; 4 -1 -3 1 0; -2 7 1 -2 -6]\n",
    "b = [8; -2; 4; 7; 12]"
   ]
  },
  {
   "cell_type": "code",
   "execution_count": 26,
   "metadata": {},
   "outputs": [
    {
     "data": {
      "text/plain": [
       "-2.4333333333333336"
      ]
     },
     "execution_count": 26,
     "metadata": {},
     "output_type": "execute_result"
    }
   ],
   "source": [
    "x = Vector{Float64}(undef, 5)  #this time, x will be a vector of 5 entries(this is another way to start a vector)\n",
    "\n",
    "#now, modify the algorithm to work on this 5 by 5 system by adding two more equations.\n",
    "x[1]=b[1]/A[1,1]\n",
    "x[2]=(b[2]-A[2,1]*x[1])/A[2,2]\n",
    "x[3]=(b[3]-A[3,1]*x[1]-A[3,2]*x[2])/A[3,3]\n",
    "x[4]=(b[4]-A[4,1]*x[1]-A[4,2]*x[2]-A[4,3])/A[4,4]\n",
    "x[5]=(b[5]-A[5,1]*x[1]-A[5,2]*x[2]-A[5,3]*x[3]-A[5,4])/A[5,5]"
   ]
  },
  {
   "cell_type": "markdown",
   "metadata": {},
   "source": [
    "**That was super tedious, right? If not, then we failed. You were supposed to go, what are they thinking, there must be a better way to go about this!! Yes, there is. ** \n",
    "\n",
    "### A Better Algorithm!\n",
    "\n",
    "But first, let's generate some data to set you up for success. Run the next cell. There is nothing to report. "
   ]
  },
  {
   "cell_type": "code",
   "execution_count": 27,
   "metadata": {},
   "outputs": [
    {
     "data": {
      "text/plain": [
       "3×1 adjoint(::Matrix{Float64}) with eltype Float64:\n",
       "  15.0\n",
       "  13.6\n",
       " -21.2"
      ]
     },
     "execution_count": 27,
     "metadata": {},
     "output_type": "execute_result"
    }
   ],
   "source": [
    "# Execute this line to define A, b and x before you move on \n",
    "x = [0.0; 0.0; 0.0] #Initialize an empty x vector\n",
    "A=[4.0 2.1 1.0; -7.03 1.0/3.0 π; 2.7 -18.1 -11.11]\n",
    "b=[15.0 13.6 -21.2]'"
   ]
  },
  {
   "cell_type": "markdown",
   "metadata": {},
   "source": [
    "**The problem with the \"steps\" in the previous cell is that each line of calculation is different from the others. That makes it hard to \"automate\", which is what programming is all about right? We humans set up the program and we let the computer automtically grind through the computations?**\n",
    "\n",
    "Let's focus on the very first line of the forward substitution method\n",
    "$$ x[1]=b[1]/A[1,1] $$\n",
    "\n",
    "Suppose that we set x to be a zero column vector with three elements \n",
    "$$ x=[0.0;0.0;0.0] $$ \n",
    "\n",
    "You know that $ A[1,:]'$ is the first ROW of the A matrix\n",
    "\n",
    "What will be the result of \n",
    "$ A[1,:] '*x $ ?\n",
    "\n",
    "Because x is the zero vector we get zero. We weren't trying to fool you, just making you admit the obvious.\n",
    "\n",
    "Hence if we could write something like\n",
    "$$ x[1]=(b[1] -  A[1,:]' *x )/A[1,1] $$\n",
    "we woudl get the same result as\n",
    "$$ x[1]=b[1]/A[1,1] $$\n",
    "which is the first step of forward substitution. Let's note that we have updated the value of $ x[1] $, while $ x[2] $ and $ x[3] $ remain zero. Why is this important? \n",
    "\n",
    "Well, ask yourself, what will be the result of the multiplication  of the Second row of A times x?\n",
    "$$ A[2,:] '*x $$   \n",
    "                                                \n",
    "once again, knowing that $ x[2]=0 $ and $ x[3]=0 $ ?\n",
    "\n",
    "Because only $x[1]$ is potentially non-zero, we have $A[2,1]*x[1]$\n",
    "\n",
    "Hence if we could write something like\n",
    "$$x[2]=(b[2] -  A[2,:]' *x )/A[2,2]$$\n",
    "we would get the same result as\n",
    "$$x[2]=(b[2]-A[2,1]*x[1])/A[2,2]$$\n",
    "\n",
    "Hopefully you see the pattern, if we could write something like \n",
    "$$x[3]=(b[3] -  A[3,:]' *x )/A[3,3]$$\n",
    "we'd get the same result as \n",
    "$$x[3]=(b[3]-A[3,1]*x[1]-A[3,2]*x[2])/A[3,3]$$\n",
    "\n",
    "Now, all of our lines of code look the same. Therefore, we can automate them! \n",
    "\n",
    "There is one catch, which maybe you already noted: in Julia a row vector times a column vector (of the same lengths) gives a 1x1 matrix, which is not the same thing as a scalar (that is, a number). So, we have to extract out (or slice out) that number via: \n",
    "$$ (A[k,:])' * x)[1]$$\n",
    "\n",
    "You may need to go back to the top and look at Problem 5 and tinyMatrix.\n",
    "\n",
    "In the next cell, you can run the two sets of equations and verify that we get the same answers. "
   ]
  },
  {
   "cell_type": "code",
   "execution_count": 28,
   "metadata": {},
   "outputs": [
    {
     "name": "stdout",
     "output_type": "stream",
     "text": [
      "x = [3.75, 119.8875, -192.49673717371743]\n",
      "xx = [3.75, 119.8875, -192.49673717371743]\n"
     ]
    },
    {
     "data": {
      "text/plain": [
       "3-element Vector{Float64}:\n",
       "    3.75\n",
       "  119.8875\n",
       " -192.49673717371743"
      ]
     },
     "execution_count": 28,
     "metadata": {},
     "output_type": "execute_result"
    }
   ],
   "source": [
    "# New way where there is a pattern\n",
    "x=[0.0;0.0;0.0]\n",
    "x[1]=(b[1]-(A[1,:]' *x)[1])/A[1,1]\n",
    "x[2]=(b[2]-(A[2,:]' *x)[1])/A[2,2]\n",
    "x[3]=(b[3]-(A[3,:]' *x)[1])/A[3,3]\n",
    "@show x\n",
    "# Old way where each line is different\n",
    "xx=[0.0;0.0;0.0]\n",
    "xx[1]=b[1]/A[1,1]\n",
    "xx[2]=(b[2]-A[2,1]*xx[1])/A[2,2]\n",
    "xx[3]=(b[3]-A[3,1]*xx[1]-A[3,2]*xx[2])/A[3,3]\n",
    "@show xx"
   ]
  },
  {
   "cell_type": "markdown",
   "metadata": {},
   "source": [
    "We're almost at a crucial point of having our first real program. **Almost!** \n",
    "\n",
    "We'll let you grind a bit more! Ouch! "
   ]
  },
  {
   "cell_type": "markdown",
   "metadata": {},
   "source": [
    "### Problem 8.\n",
    "For a system of equations Ax = b that is bigger, for example, 10x10, it would make more sense to have some sort of repeating code, than to type 10 equations. We've seen that our magic common equation has the form\n",
    "\n",
    "$$x[k]=(b[k]-(A[k,:]' *x)[1])/A[k,k]$$ \n",
    "\n",
    "For this problem, we will give you a large A and b. You assume that Ax = b, and that x is a column vector with 10 entries. We'll have you MANUALLY repeat a step 10 times! (Hey, it's better than typing 10 equations!)"
   ]
  },
  {
   "cell_type": "code",
   "execution_count": 29,
   "metadata": {},
   "outputs": [
    {
     "name": "stdout",
     "output_type": "stream",
     "text": [
      "size(x) = (10, 1)"
     ]
    },
    {
     "name": "stderr",
     "output_type": "stream",
     "text": [
      "\u001b[32m\u001b[1m    Updating\u001b[22m\u001b[39m registry at `C:\\Users\\qpow3\\.julia\\registries\\General.toml`\n",
      "\u001b[32m\u001b[1m   Resolving\u001b[22m\u001b[39m package versions...\n",
      "\u001b[32m\u001b[1m    Updating\u001b[22m\u001b[39m `C:\\Users\\qpow3\\.julia\\environments\\v1.7\\Project.toml`\n",
      " \u001b[90m [9a3f8284] \u001b[39m\u001b[92m+ Random\u001b[39m\n",
      "\u001b[32m\u001b[1m  No Changes\u001b[22m\u001b[39m to `C:\\Users\\qpow3\\.julia\\environments\\v1.7\\Manifest.toml`\n"
     ]
    },
    {
     "data": {
      "text/plain": [
       "10×10 Matrix{Float64}:\n",
       " 0.579862   0.0       0.0        0.0       …  0.0       0.0       0.0\n",
       " 0.411294   0.536369  0.0        0.0          0.0       0.0       0.0\n",
       " 0.972136   0.711389  0.966197   0.0          0.0       0.0       0.0\n",
       " 0.0149088  0.103929  0.666558   0.91097      0.0       0.0       0.0\n",
       " 0.520355   0.806704  0.333859   0.973653     0.0       0.0       0.0\n",
       " 0.639562   0.870539  0.802199   0.76066   …  0.0       0.0       0.0\n",
       " 0.839622   0.962715  0.156458   0.488912     0.0       0.0       0.0\n",
       " 0.967143   0.15118   0.380799   0.362643     0.813512  0.0       0.0\n",
       " 0.789764   0.715355  0.0687591  0.708738     0.994935  0.566878  0.0\n",
       " 0.696041   0.939548  0.861725   0.656694     0.77916   0.607905  0.67765"
      ]
     },
     "execution_count": 29,
     "metadata": {},
     "output_type": "execute_result"
    },
    {
     "name": "stdout",
     "output_type": "stream",
     "text": [
      "\n"
     ]
    }
   ],
   "source": [
    "#Run this cell to generate matrices A and b, and initialize x to be the correct size.  DO NOT MODIFY IT!\n",
    "#Once it is done running, you should see a 10x10 lower triangular matrix as the output\n",
    "\n",
    "\n",
    "using Pkg\n",
    "Pkg.add(\"Random\")\n",
    "using Random\n",
    "Random.seed!(1234)\n",
    "N=10; A=rand(N,N); #Builds a 10 x 10 matrix filled with randon elements, except, we fixed the \n",
    "# \"seed\" so that all of you will generate the same matrix\n",
    "\n",
    "# Make A lower triangular with one for loop and indexing\n",
    "# For now, pretend that you have not seen the command \"for\" and its friend \"end\"\n",
    "for k=1:N\n",
    "    A[k,k+1:N]=0.0* A[k,k+1:N]; #Not important to understand this line at this TIME!\n",
    "end \n",
    "b=rand(N,1); # a random column vector of size 10 x 1. Not bad.\n",
    "x=0*b; # Sets x to zero and has the same size as b\n",
    "@show size(x)\n",
    "A"
   ]
  },
  {
   "cell_type": "markdown",
   "metadata": {},
   "source": [
    "Now, to find all the values of x, we can define an equation that looks like our  algorithm above, \n",
    "$$ x[k]=(b[k]-(A[k,:]' *x)[1])/A[k,k]  $$  \n",
    "and run it 10 times."
   ]
  },
  {
   "cell_type": "code",
   "execution_count": 30,
   "metadata": {},
   "outputs": [
    {
     "data": {
      "text/plain": [
       "0"
      ]
     },
     "execution_count": 30,
     "metadata": {},
     "output_type": "execute_result"
    }
   ],
   "source": [
    "#first we need to start a counter variable to count the times that we have run the loop and so that we can index into the\n",
    "# x vector\n",
    "k = 0"
   ]
  },
  {
   "cell_type": "code",
   "execution_count": 40,
   "metadata": {},
   "outputs": [
    {
     "name": "stdout",
     "output_type": "stream",
     "text": [
      "102.8352630459174732"
     ]
    }
   ],
   "source": [
    "#you will need to run this block of code for EVERY ROW of the matrix A (10 times).  \n",
    "#Each output will correspond to an entry in the x vector.  Enter them in the block below for grading.\n",
    "k = k + 1\n",
    "x[k] = (b[k]-((A[k , :]') *x)[1])/A[k,k]\n",
    "print(k)\n",
    "print(x[k])\n",
    "\n",
    "#hint: If you get a BoundsError, re-run the cell above to reset k to zero. \n",
    "#you will also need to re-run the initialization cell"
   ]
  },
  {
   "cell_type": "code",
   "execution_count": 41,
   "metadata": {},
   "outputs": [],
   "source": [
    "#Enter your results here:\n",
    "x1 = 10.14389643078051334\n",
    "x2 = 20.8699464053244844\n",
    "x3 = 30.08474825885481517\n",
    "x4 = 40.4115390578275809\n",
    "x5 = 5-2.8306691942374544\n",
    "x6 = 62.244642297318368\n",
    "x7 = 7-0.09193033809617719\n",
    "x8 = 80.5010235678535924\n",
    "x9 = 9-4.971866009002309\n",
    "x10 = 102.8352630459174732\n",
    ";"
   ]
  },
  {
   "cell_type": "markdown",
   "metadata": {},
   "source": [
    "#### Using the inv() function of the Linear Algebra package.  \n",
    "This function takes in the matrix A and the vector b, and returns the solution vector x.  No, this is not cheating, it is checking your work!  The cell below should return the same vector as your solution to the cell above."
   ]
  },
  {
   "cell_type": "code",
   "execution_count": 42,
   "metadata": {},
   "outputs": [
    {
     "data": {
      "text/plain": [
       "10×1 Matrix{Float64}:\n",
       "  0.14389643078051334\n",
       "  0.8699464053244844\n",
       "  0.08474825885481518\n",
       "  0.41153905782758093\n",
       " -2.830669194237455\n",
       "  2.2446422973183697\n",
       " -0.09193033809617734\n",
       "  0.5010235678535905\n",
       " -4.971866009002307\n",
       "  2.835263045917472"
      ]
     },
     "execution_count": 42,
     "metadata": {},
     "output_type": "execute_result"
    }
   ],
   "source": [
    "#Your results should match this\n",
    "using LinearAlgebra\n",
    "inv(A)*b"
   ]
  },
  {
   "cell_type": "markdown",
   "metadata": {},
   "source": [
    "#### What if, instead of running that cell over and over manually, we used a control flow operator to do it for us?  For loops are perfect for running a certain number of times, and they even keep track of the counter variable for us.\n",
    "\n",
    "### Problem 9\n",
    "Find the solution to a 100 by 100 system! "
   ]
  },
  {
   "cell_type": "code",
   "execution_count": 43,
   "metadata": {},
   "outputs": [],
   "source": [
    "# This generates the matrices A and b for a 100x100 system.  DO NOT MODIFY THIS CELL!\n",
    "\n",
    "Random.seed!(4321)\n",
    "N=100; A=rand(N,N);\n",
    "# Make A lower triangular with one for loop and indexing\n",
    "\n",
    "# This time, pay attention to \"for\" and its friend \"end\". Everything in between is repeated for k=1 all the way \n",
    "# up to k=N. How convenient is that? (Yes, we know, when we first learned this we were bowled over too!)\n",
    "\n",
    "for k=1:N  \n",
    "    A[k,k+1:N]=0.0* A[k,k+1:N]; #Not important to understand this line at this TIME!\n",
    "end \n",
    "b=rand(N,1);\n",
    "x=0*b;  #makes an x vector the same size as the b vector, but full of zeros\n"
   ]
  },
  {
   "cell_type": "code",
   "execution_count": 46,
   "metadata": {},
   "outputs": [
    {
     "name": "stdout",
     "output_type": "stream",
     "text": [
      "[2.4008493528980432, 1.5029748079688743, -0.748628422459897, -1.1810509849044308, -16.12376549117034, 16.7731779923699, 3.341099653317763, 20.521388535237246, -9.475640685159632, 8.46453771729228]"
     ]
    }
   ],
   "source": [
    "for k=1:N\n",
    "    x[k] = (b[k]-((A[k , :]') *x)[1])/A[k,k] #fill this in!! Hint: Look at the cell you repeated earlier!\n",
    "end\n",
    "print(x[1:10, 1]) #show the first 10 entries of x"
   ]
  },
  {
   "cell_type": "markdown",
   "metadata": {},
   "source": [
    "#### Check your work with the inv() function."
   ]
  },
  {
   "cell_type": "code",
   "execution_count": 47,
   "metadata": {},
   "outputs": [
    {
     "name": "stdout",
     "output_type": "stream",
     "text": [
      "[2.4008493528980432, 1.5029748079688743, -0.748628422459897, -1.1810509849044308, -16.12376549117034, 16.7731779923699, 3.341099653317763, 20.521388535237246, -9.475640685159632, 8.46453771729228]"
     ]
    },
    {
     "data": {
      "text/plain": [
       "true"
      ]
     },
     "execution_count": 47,
     "metadata": {},
     "output_type": "execute_result"
    }
   ],
   "source": [
    "#the inv() function\n",
    "ansComp = inv(A)*b\n",
    "print(x[1:10, 1])\n",
    "isapprox(x, ansComp) #this function will tell us if the computer got the same values with inv() as we did with the algorithm\n",
    "#if it returns \"true\" then your algorithm worked! \n",
    "#Otherwise, try again, and make sure to re-run the cell that builds the matrices to get a fresh start."
   ]
  },
  {
   "cell_type": "markdown",
   "metadata": {},
   "source": [
    "Cheatsheets for Julia Vector and Matrix syntax\n",
    "* https://cheatsheets.quantecon.org/julia-cheatsheet.html#vectors-and-matrices\n",
    "* https://www.softcover.io/read/7b8eb7d0/juliabook/basics\n",
    "\n",
    "Documentation for the LinearAlgebra Package\n",
    "* https://docs.julialang.org/en/v1/stdlib/LinearAlgebra/"
   ]
  }
 ],
 "metadata": {
  "kernelspec": {
   "display_name": "Julia 1.7.1",
   "language": "julia",
   "name": "julia-1.7"
  },
  "language_info": {
   "file_extension": ".jl",
   "mimetype": "application/julia",
   "name": "julia",
   "version": "1.7.1"
  }
 },
 "nbformat": 4,
 "nbformat_minor": 4
}
