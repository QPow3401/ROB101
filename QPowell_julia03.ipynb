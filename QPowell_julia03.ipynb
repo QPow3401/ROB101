{
 "cells": [
  {
   "cell_type": "markdown",
   "metadata": {},
   "source": [
    "University of Michigan - ROB 101 Computational Linear Algebra"
   ]
  },
  {
   "cell_type": "markdown",
   "metadata": {},
   "source": [
    "# Homework 3: Vector and Matrix Multiplication\n",
    "The Result of a Matrix Multiplication:\n",
    "$$[n\\times k~~\\text{matrix}] \\cdot [k \\times m~~\\text{matrix}] = [n \\times m~~\\text{matrix}].$$\n",
    "\n",
    "In other words:  In order for the matrix multiplication A times B to be possible, the number of columns in A must equal the number of rows in B."
   ]
  },
  {
   "cell_type": "markdown",
   "metadata": {},
   "source": [
    "\\begin{equation}\n",
    "   A \\cdot B:= \n",
    "\\left[\\begin{array}{cccc}  a_1^{\\rm row} \\cdot b_1^{\\rm col} & a_1^{\\rm row} \\cdot b_2^{\\rm col} & \\cdots & a_1^{\\rm row} \\cdot b_m^{\\rm col} \\\\\n",
    "a_2^{\\rm row} \\cdot b_1^{\\rm col} & a_2^{\\rm row} \\cdot b_2^{\\rm col} & \\cdots & a_2^{\\rm row} \\cdot b_m^{\\rm col} \\\\\n",
    "\\vdots & \\vdots & \\ddots & \\vdots \\\\\n",
    "a_n^{\\rm row} \\cdot b_1^{\\rm col} & a_n^{\\rm row} \\cdot b_2^{\\rm col} & \\cdots & a_n^{\\rm row} \\cdot b_m^{\\rm col}\n",
    "\\end{array}\\right].\n",
    "\\end{equation}\n",
    "\n",
    "### Problem 1.  Rows x Columns\n",
    "Partition the following matrices, then compute the multiplication product using the formula above.\n",
    "\n",
    "#### a) $A*B$ where $A = \\begin{bmatrix} 3&7&4\\\\1&4&3\\end{bmatrix}$ and $B = \\begin{bmatrix}8&3&9&1\\\\2&4&0&8\\\\0&7&1&2\\end{bmatrix}$"
   ]
  },
  {
   "cell_type": "code",
   "execution_count": 16,
   "metadata": {
    "tags": [
     "problem_1a"
    ]
   },
   "outputs": [
    {
     "data": {
      "text/plain": [
       "2×4 Matrix{Int64}:\n",
       " 38  65  31  67\n",
       " 16  40  12  39"
      ]
     },
     "execution_count": 16,
     "metadata": {},
     "output_type": "execute_result"
    }
   ],
   "source": [
    "#declare your partitions first\n",
    "#leave the values as integers or the check below will return a false answer, even if you are right.\n",
    "#B = [8 3 9 1; 2 4 0 8; 0 7 1 2]\n",
    "#a1row = [3 7 4]\n",
    "#a2row = [1 4 3]\n",
    "#b1col = B[1,:]\n",
    "#b2col = B[2,:]\n",
    "#b3col = B[3,:]\n",
    "#b4col = B[4,:]\n",
    "\n",
    "#implement code below that computes the product using your partitioned matrices\n",
    "#your answer should be a 2 x 4 matrix. \n",
    "#answer1a = [a1row*b1col a1row*b2col a1row*b3col a1row*b4col; a2row*b1col a2row*b2col a2row*b3col a2row*b4col\n",
    "\n",
    "A = [3 7 4; 1 4 3]\n",
    "B = [8 3 9 1; 2 4 0 8; 0 7 1 2]\n",
    "answer1a = A*B"
   ]
  },
  {
   "cell_type": "code",
   "execution_count": 17,
   "metadata": {
    "tags": [
     "problem_1a_answer",
     "hide"
    ]
   },
   "outputs": [],
   "source": [
    "A = [3 7 4; 1 4 3]\n",
    "B = [8 3 9 1; 2 4 0 8; 0 7 1 2]\n",
    "check1a = A*B\n",
    "@assert check1a == answer1a"
   ]
  },
  {
   "cell_type": "markdown",
   "metadata": {},
   "source": [
    "#### b) $C*D$ where $C = \\begin{bmatrix} 7&6&8&7&4\\\\1&8&2&4&3\\\\6&9&8&1&4\\end{bmatrix}$ and $D = \\begin{bmatrix}8&3\\\\0&4\\\\7&2\\\\3&8\\\\9&2\\end{bmatrix}$"
   ]
  },
  {
   "cell_type": "code",
   "execution_count": 18,
   "metadata": {
    "tags": [
     "problem_1b"
    ]
   },
   "outputs": [
    {
     "data": {
      "text/plain": [
       "3×2 Matrix{Int64}:\n",
       " 169  125\n",
       "  61   77\n",
       " 143   86"
      ]
     },
     "execution_count": 18,
     "metadata": {},
     "output_type": "execute_result"
    }
   ],
   "source": [
    "#Partition C \n",
    "\n",
    "C = [7 6 8 7 4; 1 8 2 4 3; 6 9 8 1 4]\n",
    "\n",
    "#Partition D\n",
    "\n",
    "D = [8 3; 0 4; 7 2; 3 8; 9 2]\n",
    "\n",
    "\n",
    "\n",
    "#Compute product\n",
    "answer1b =  C*D"
   ]
  },
  {
   "cell_type": "code",
   "execution_count": 19,
   "metadata": {
    "tags": [
     "problem_1b_answer",
     "hide"
    ]
   },
   "outputs": [],
   "source": [
    "C = [7 6 8 7 4; 1 8 2 4 3; 6 9 8 1 4]\n",
    "D = [8 3; 0 4; 7 2; 3 8; 9 2]\n",
    "check1b = C*D\n",
    "@assert check1b == answer1b"
   ]
  },
  {
   "cell_type": "markdown",
   "metadata": {},
   "source": [
    "$$A\\cdot B = \\sum_{i=1}^{k} a_i^{\\rm col} \\cdot b_i^{\\rm row},  $$\n",
    "### Problem 2.  Summing over Columns and Rows\n",
    "Partition the following matrices, then compute the product of matrix multiplication by summing over rows and columns.\n",
    "\n",
    "#### a.  $F*G$ where $F = \\begin{bmatrix}5&1&3\\\\8&2&0\\\\1&7&6\\\\8&2&1\\end{bmatrix}$ and $G = \\begin{bmatrix}2&4\\\\8&1\\\\7&0\\end{bmatrix}$"
   ]
  },
  {
   "cell_type": "code",
   "execution_count": 20,
   "metadata": {
    "tags": [
     "problem_2a"
    ]
   },
   "outputs": [
    {
     "data": {
      "text/plain": [
       "4×2 Matrix{Int64}:\n",
       "  39  21\n",
       "  32  34\n",
       " 100  11\n",
       "  39  34"
      ]
     },
     "execution_count": 20,
     "metadata": {},
     "output_type": "execute_result"
    }
   ],
   "source": [
    "#partition F into columns\n",
    "\n",
    "F = [5 1 3; 8 2 0; 1 7 6; 8 2 1]\n",
    "\n",
    "#partition G into rows\n",
    "\n",
    "G = [2 4; 8 1; 7 0]\n",
    "\n",
    "#compute the product by summing the products of the columns times rows\n",
    "answer2a = F*G"
   ]
  },
  {
   "cell_type": "code",
   "execution_count": 21,
   "metadata": {
    "scrolled": true,
    "tags": [
     "problem_2a_answer",
     "hide"
    ]
   },
   "outputs": [],
   "source": [
    "F = [5 1 3; 8 2 0; 1 7 6; 8 2 1]\n",
    "G = [2 4; 8 1; 7 0]\n",
    "check2a = F*G\n",
    "@assert check2a == answer2a"
   ]
  },
  {
   "cell_type": "markdown",
   "metadata": {},
   "source": [
    "#### b.  Using the same matrices, F and G, construct a FOR loop to compute the matrix multiplication $F*G$ like how we did above.\n",
    "Remember this formula, and how it works:$$A\\cdot B = \\sum_{i=1}^{k} a_i^{\\rm col} \\cdot b_i^{\\rm row},  $$\n",
    "\n",
    "Hint: How many times do we have to multiply a column times a row?  What happens to all of the individual column times row matrices at the end?  Keep track of the sum in the for loop so that you don't have to manually sum at the end."
   ]
  },
  {
   "cell_type": "code",
   "execution_count": 29,
   "metadata": {
    "tags": [
     "problem_2b"
    ]
   },
   "outputs": [
    {
     "data": {
      "text/plain": [
       "4×2 Matrix{Float64}:\n",
       " 117.0   63.0\n",
       "  96.0  102.0\n",
       " 300.0   33.0\n",
       " 117.0  102.0"
      ]
     },
     "execution_count": 29,
     "metadata": {},
     "output_type": "execute_result"
    }
   ],
   "source": [
    "#Declare a matrix of zeros the size of the multiplication product\n",
    "currentSum = zeros(4,2)\n",
    "#fill in the number of columns of F (or Rows of G)\n",
    "n = 3\n",
    "\n",
    "#the for loop\n",
    "for i in 1:n\n",
    "    fCol = F[:,1:i]     #use indexing, and the iterator variable(i) to pick out the column and row to be multiplied\n",
    "    gRow = G[1:i,:]\n",
    "    multiplyCxR = fCol*gRow\n",
    "    currentSum = currentSum + multiplyCxR #update the current sum by adding this round of column by row multiplication\n",
    "end\n",
    "\n",
    "answer2b = currentSum"
   ]
  },
  {
   "cell_type": "code",
   "execution_count": 24,
   "metadata": {
    "tags": [
     "problem_2b_answer",
     "hide"
    ]
   },
   "outputs": [
    {
     "ename": "LoadError",
     "evalue": "AssertionError: answer2b == check2a",
     "output_type": "error",
     "traceback": [
      "AssertionError: answer2b == check2a",
      "",
      "Stacktrace:",
      " [1] top-level scope",
      "   @ In[24]:1",
      " [2] eval",
      "   @ .\\boot.jl:373 [inlined]",
      " [3] include_string(mapexpr::typeof(REPL.softscope), mod::Module, code::String, filename::String)",
      "   @ Base .\\loading.jl:1196"
     ]
    }
   ],
   "source": [
    "@assert answer2b == check2a"
   ]
  },
  {
   "cell_type": "markdown",
   "metadata": {},
   "source": [
    "### The Trick:  Matrix Multiplication is Already Built into Julia\n",
    "#### You can simply use the * operator to multiply compatible matrices\n",
    "What?  I did all that for nothing!  No.  By completing the algorithms above, you have followed along the steps that Julia is taking internally. You now understand the inner workings of the computer!\n",
    "\n",
    "Note: You still need to implement problems 1 and 2 as directed, otherwise you will receive no points on the assignment.\n",
    "\n",
    "### Problem 3.  Using the * operator\n",
    "#### Compute $X*Y$ where $X = \\begin{bmatrix}8&5&2&1\\\\6&1&3&2\\end{bmatrix}$ and $Y = \\begin{bmatrix}4&4&3\\\\7&6&5\\\\0&1&3\\\\9&8&2\\end{bmatrix}$"
   ]
  },
  {
   "cell_type": "code",
   "execution_count": 30,
   "metadata": {
    "tags": [
     "problem_3"
    ]
   },
   "outputs": [
    {
     "data": {
      "text/plain": [
       "2×3 Matrix{Int64}:\n",
       " 76  72  57\n",
       " 49  49  36"
      ]
     },
     "execution_count": 30,
     "metadata": {},
     "output_type": "execute_result"
    }
   ],
   "source": [
    "#your code here\n",
    "X = [8 5 2 1; 6 1 3 2]\n",
    "Y = [4 4 3; 7 6 5; 0 1 3; 9 8 2]\n",
    "answer3 = X * Y "
   ]
  },
  {
   "cell_type": "code",
   "execution_count": 31,
   "metadata": {
    "tags": [
     "problem_3_answer",
     "hide"
    ]
   },
   "outputs": [
    {
     "data": {
      "text/plain": [
       "2×3 Matrix{Int64}:\n",
       " 76  72  57\n",
       " 49  49  36"
      ]
     },
     "execution_count": 31,
     "metadata": {},
     "output_type": "execute_result"
    }
   ],
   "source": [
    "X = [8 5 2 1; 6 1 3 2]\n",
    "Y = [4 4 3; 7 6 5; 0 1 3; 9 8 2]\n",
    "check3 = X * Y"
   ]
  },
  {
   "cell_type": "markdown",
   "metadata": {},
   "source": [
    "<img src=\"https://i.postimg.cc/Y0HQcjMM/lu-final.jpg\" width=\"700\">\n",
    "\n",
    "### Problem 4. LU Factorization Step by Step\n",
    "Follow Algorithm 1 (above), taken from chapter 5 of the course booklet, step by step in Julia, to perform an LU Factorization on Matrix M.\n",
    "$$ M = \\begin{bmatrix}6&5&4\\\\12&19&14\\\\24&35&32\\end{bmatrix}$$\n",
    "We are going to do it step by step, just as if you were writing it out as a HW Drill Problem solution. Then, in the next problem, we'll program it up as an honest to goodness algorithm!"
   ]
  },
  {
   "cell_type": "code",
   "execution_count": 38,
   "metadata": {},
   "outputs": [
    {
     "name": "stdout",
     "output_type": "stream",
     "text": [
      "temp = [0.0 0.0 0.0; 0.0 9.0 6.0; 0.0 15.0 16.0]\n",
      "temp = [0.0 0.0 0.0; 0.0 0.0 0.0; 0.0 0.0 6.0]\n",
      "temp = [0.0 0.0 0.0; 0.0 0.0 -3.5999999999999996; 0.0 0.0 0.0]\n"
     ]
    },
    {
     "data": {
      "text/plain": [
       "-3.5999999999999996"
      ]
     },
     "execution_count": 38,
     "metadata": {},
     "output_type": "execute_result"
    }
   ],
   "source": [
    "# Do all of your work in this cell\n",
    "# here, we will NOT test that the pivot is non-zero and just hope for the best!\n",
    "M = [6 5 4; 12 19 14; 24 35 32]\n",
    "temp=copy(M)\n",
    "n,m = size(M)\n",
    "k=1\n",
    "C=temp[:,k]\n",
    "pivot=C[k]\n",
    "C=C/pivot  # Let's hope we do not divide by zero! Yikes!!! \n",
    "R=temp[k,:]' # recall, we have to do the transpose in Julia to get a row vector or we use R=temp[k:k,:]\n",
    "temp = temp-C*R\n",
    "@show temp\n",
    "# Run this code now and make sure that temp has a zero first column and a zero first row\n",
    "\n",
    "# Now its your turn\n",
    "k=2 #now k will be 2, and we will repeat the steps again for the second column and row\n",
    "C=temp[:,k]\n",
    "pivot=C[k]\n",
    "C=C/pivot \n",
    "R=temp[k,:]' \n",
    "temp = temp-C*R\n",
    "@show temp\n",
    "\n",
    "k=3\n",
    "pivot=C[k]\n",
    "C=C/pivot \n",
    "R=temp[k,:]' \n",
    "temp = temp-C*R\n",
    "@show temp\n",
    "\n",
    "#you will need to repeat this process n times, where n is the number of rows/columns in M\n",
    "\n",
    "#Now return L and U\n",
    "L = 6\n",
    "U = -3.5999999999999996"
   ]
  },
  {
   "cell_type": "markdown",
   "metadata": {},
   "source": [
    "<img src=\"https://i.postimg.cc/Y0HQcjMM/lu-final.jpg\" width=\"700\">\n",
    "\n",
    "### Problem 5. LU Factorization in Code\n",
    "Implement Algorithm 1(above), taken from chapter 5 of the course booklet, in code to perform an LU Factorization on Matrix M.\n",
    "$$ M = \\begin{bmatrix}6&5&4\\\\12&19&14\\\\24&35&32\\end{bmatrix}$$\n",
    "\n",
    "Remark: When you first implement the algorithm using a for loop, don't worry about checking that the pivot \n",
    "is non-zero. Add that at the very end. \n",
    "\n",
    "Next week, we'll show you how to turn your script into a real function so that you can call\n",
    " L, U = mylu(M)"
   ]
  },
  {
   "cell_type": "code",
   "execution_count": 36,
   "metadata": {
    "scrolled": true,
    "tags": [
     "problem_5"
    ]
   },
   "outputs": [
    {
     "ename": "LoadError",
     "evalue": "MethodError: no method matching ~(::typeof(\\))\n\u001b[0mClosest candidates are:\n\u001b[0m  ~(\u001b[91m::Union{Int128, Int16, Int32, Int64, Int8, UInt128, UInt16, UInt32, UInt64, UInt8}\u001b[39m) at C:\\Users\\qpow3\\AppData\\Local\\Programs\\Julia-1.7.1\\share\\julia\\base\\int.jl:310\n\u001b[0m  ~(\u001b[91m::Bool\u001b[39m) at C:\\Users\\qpow3\\AppData\\Local\\Programs\\Julia-1.7.1\\share\\julia\\base\\bool.jl:37\n\u001b[0m  ~(\u001b[91m::Missing\u001b[39m) at C:\\Users\\qpow3\\AppData\\Local\\Programs\\Julia-1.7.1\\share\\julia\\base\\missing.jl:101\n\u001b[0m  ...",
     "output_type": "error",
     "traceback": [
      "MethodError: no method matching ~(::typeof(\\))\n\u001b[0mClosest candidates are:\n\u001b[0m  ~(\u001b[91m::Union{Int128, Int16, Int32, Int64, Int8, UInt128, UInt16, UInt32, UInt64, UInt8}\u001b[39m) at C:\\Users\\qpow3\\AppData\\Local\\Programs\\Julia-1.7.1\\share\\julia\\base\\int.jl:310\n\u001b[0m  ~(\u001b[91m::Bool\u001b[39m) at C:\\Users\\qpow3\\AppData\\Local\\Programs\\Julia-1.7.1\\share\\julia\\base\\bool.jl:37\n\u001b[0m  ~(\u001b[91m::Missing\u001b[39m) at C:\\Users\\qpow3\\AppData\\Local\\Programs\\Julia-1.7.1\\share\\julia\\base\\missing.jl:101\n\u001b[0m  ...",
      "",
      "Stacktrace:",
      " [1] top-level scope",
      "   @ In[36]:4",
      " [2] eval",
      "   @ .\\boot.jl:373 [inlined]",
      " [3] include_string(mapexpr::typeof(REPL.softscope), mod::Module, code::String, filename::String)",
      "   @ Base .\\loading.jl:1196"
     ]
    }
   ],
   "source": [
    "#initialization\n",
    "n,m = size(M)\n",
    "temp = copy(M)\n",
    "L = Array{Float64,2}(undef, n, 0)  ~~~\\# L=[] Empty matrix\\\\\n",
    "U = Array{Float64,2}(undef, 0, n)  ~~~\\# R=[] Empty matrix\\\\\n",
    "flag = 1\n",
    "#end intialization\n",
    "\n",
    "#Your turn! Translate the rest of the algorithm to code here(use a for loop and an if statement)\n",
    "\n",
    "\n",
    "\n",
    "\n"
   ]
  },
  {
   "cell_type": "code",
   "execution_count": 39,
   "metadata": {
    "tags": [
     "problem_5_answer",
     "hide"
    ]
   },
   "outputs": [
    {
     "ename": "LoadError",
     "evalue": "AssertionError: low == L",
     "output_type": "error",
     "traceback": [
      "AssertionError: low == L",
      "",
      "Stacktrace:",
      " [1] top-level scope",
      "   @ In[39]:4",
      " [2] eval",
      "   @ .\\boot.jl:373 [inlined]",
      " [3] include_string(mapexpr::typeof(REPL.softscope), mod::Module, code::String, filename::String)",
      "   @ Base .\\loading.jl:1196"
     ]
    }
   ],
   "source": [
    "M = [6 5 4; 12 19 14; 24 35 32]\n",
    "using LinearAlgebra\n",
    "(low, upp) = lu(M)\n",
    "@assert low ==L\n",
    "@assert upp ==U"
   ]
  },
  {
   "cell_type": "markdown",
   "metadata": {},
   "source": [
    "#### Congratulations! You just translated an algorithm to code.  This is a key skill for a computer or data scientist.\n",
    "\n",
    "The good news:  Julia has a built in function that will do the LU factorization for you.  Actually, there are two functions. If we use the LinearAlgebra package, we can find the L and U factors by simply typing:\n",
    "<br> <br>   (L, U) = lu(M, Val(false))\n",
    "\n",
    "<br> You can also use factorize(M), but it is not reccomended because this multiple dispatch function may return a different type of factorization than an LU. \n",
    "\n",
    "Note:  You still need to complete the algorithm above to get points.  It is important that you understand how the algorithm can be done both by hand and by Julia.  Computers exist to make your life easier, but in order for them to do that, you have to understand how they work, and how to use them."
   ]
  },
  {
   "cell_type": "code",
   "execution_count": 40,
   "metadata": {},
   "outputs": [
    {
     "data": {
      "text/plain": [
       "LU{Float64, Matrix{Float64}}\n",
       "L factor:\n",
       "3×3 Matrix{Float64}:\n",
       " 1.0  0.0      0.0\n",
       " 2.0  1.0      0.0\n",
       " 4.0  1.66667  1.0\n",
       "U factor:\n",
       "3×3 Matrix{Float64}:\n",
       " 6.0  5.0  4.0\n",
       " 0.0  9.0  6.0\n",
       " 0.0  0.0  6.0"
      ]
     },
     "execution_count": 40,
     "metadata": {},
     "output_type": "execute_result"
    }
   ],
   "source": [
    "#LU decomposition without permutations ~Val(false)~\n",
    "(lower, upper) = lu(M, Val(false))"
   ]
  },
  {
   "cell_type": "code",
   "execution_count": 41,
   "metadata": {},
   "outputs": [
    {
     "data": {
      "text/plain": [
       "true"
      ]
     },
     "execution_count": 41,
     "metadata": {},
     "output_type": "execute_result"
    }
   ],
   "source": [
    "#Check that the factorization is correct\n",
    "lower*upper == M"
   ]
  },
  {
   "cell_type": "markdown",
   "metadata": {},
   "source": [
    "Note: If you leave off the Val(false) argument, lu() will use permutations, and then $L * U \\ne M$\n",
    "\n",
    "\n",
    "For a more in depth explanation about julia's factorization, visit:\n",
    "https://julia.quantecon.org/tools_and_techniques/numerical_linear_algebra.html"
   ]
  },
  {
   "cell_type": "markdown",
   "metadata": {},
   "source": [
    "### Problem 6.  Copy your algorithm from problem 5 into the cell below and run your LU Factorization on a 100 x 100 random matrix\n"
   ]
  },
  {
   "cell_type": "code",
   "execution_count": 42,
   "metadata": {
    "tags": [
     "problem_6"
    ]
   },
   "outputs": [
    {
     "data": {
      "text/plain": [
       "100×100 Matrix{Float64}:\n",
       " 0.850384    0.694503    0.476956   …  0.713739   0.860186    0.360401\n",
       " 0.119307    0.00342852  0.584518      0.93202    0.961324    0.700233\n",
       " 0.872334    0.761349    0.590876      0.678309   0.560205    0.689514\n",
       " 0.189177    0.49654     0.770053      0.993113   0.013263    0.543722\n",
       " 0.814738    0.696535    0.207422      0.431002   0.02177     0.0173573\n",
       " 0.630363    0.400789    0.70259    …  0.164162   0.0775047   0.90824\n",
       " 0.0440195   0.38152     0.796597      0.998627   0.934363    0.745216\n",
       " 0.913829    0.74417     0.798785      0.0442992  0.621441    0.691863\n",
       " 0.38691     0.902578    0.0733258     0.870987   0.191367    0.82611\n",
       " 0.679628    0.59404     0.156277      0.699974   0.894851    0.447011\n",
       " 0.978854    0.982985    0.0333954  …  0.696667   0.119555    0.0785677\n",
       " 0.690005    0.345544    0.179783      0.835827   0.00398155  0.356683\n",
       " 0.683632    0.60732     0.442858      0.344811   0.428556    0.265835\n",
       " ⋮                                  ⋱                         \n",
       " 0.597994    0.61367     0.443159      0.411197   0.0688891   0.711688\n",
       " 0.0980946   0.312158    0.823409      0.522269   0.817651    0.229877\n",
       " 0.595338    0.0685475   0.514738   …  0.212469   0.536958    0.963961\n",
       " 0.475725    0.732727    0.415787      0.334614   0.106744    0.710384\n",
       " 0.843735    0.54611     0.897574      0.0553609  0.454122    0.6557\n",
       " 0.00390738  0.100228    0.488595      0.871662   0.134666    0.210995\n",
       " 0.946489    0.589986    0.817227      0.498763   0.273476    0.0872746\n",
       " 0.306234    0.667715    0.451267   …  0.951004   0.141191    0.127173\n",
       " 0.164813    0.624979    0.0061581     0.509441   0.827199    0.949833\n",
       " 0.0169042   0.266371    0.434069      0.0152514  0.0485501   0.886908\n",
       " 0.322531    0.879974    0.225444      0.19345    0.908693    0.155903\n",
       " 0.697046    0.204959    0.416743      0.892377   0.585265    0.474331"
      ]
     },
     "execution_count": 42,
     "metadata": {},
     "output_type": "execute_result"
    }
   ],
   "source": [
    "using Random\n",
    "N=100\n",
    "M=rand(N,N)\n",
    "#copy your algorithm below\n"
   ]
  },
  {
   "cell_type": "code",
   "execution_count": 43,
   "metadata": {
    "tags": [
     "problem_6_selfcheck"
    ]
   },
   "outputs": [
    {
     "ename": "LoadError",
     "evalue": "MethodError: no method matching -(::Matrix{Float64}, ::Float64)\nFor element-wise subtraction, use broadcasting with dot syntax: array .- scalar\n\u001b[0mClosest candidates are:\n\u001b[0m  -(\u001b[91m::Base.TwicePrecision\u001b[39m, ::Number) at C:\\Users\\qpow3\\AppData\\Local\\Programs\\Julia-1.7.1\\share\\julia\\base\\twiceprecision.jl:293\n\u001b[0m  -(\u001b[91m::UniformScaling\u001b[39m, ::Number) at C:\\Users\\qpow3\\AppData\\Local\\Programs\\Julia-1.7.1\\share\\julia\\stdlib\\v1.7\\LinearAlgebra\\src\\uniformscaling.jl:147\n\u001b[0m  -(::Array, \u001b[91m::SparseArrays.AbstractSparseMatrixCSC\u001b[39m) at C:\\Users\\qpow3\\AppData\\Local\\Programs\\Julia-1.7.1\\share\\julia\\stdlib\\v1.7\\SparseArrays\\src\\sparsematrix.jl:1777\n\u001b[0m  ...",
     "output_type": "error",
     "traceback": [
      "MethodError: no method matching -(::Matrix{Float64}, ::Float64)\nFor element-wise subtraction, use broadcasting with dot syntax: array .- scalar\n\u001b[0mClosest candidates are:\n\u001b[0m  -(\u001b[91m::Base.TwicePrecision\u001b[39m, ::Number) at C:\\Users\\qpow3\\AppData\\Local\\Programs\\Julia-1.7.1\\share\\julia\\base\\twiceprecision.jl:293\n\u001b[0m  -(\u001b[91m::UniformScaling\u001b[39m, ::Number) at C:\\Users\\qpow3\\AppData\\Local\\Programs\\Julia-1.7.1\\share\\julia\\stdlib\\v1.7\\LinearAlgebra\\src\\uniformscaling.jl:147\n\u001b[0m  -(::Array, \u001b[91m::SparseArrays.AbstractSparseMatrixCSC\u001b[39m) at C:\\Users\\qpow3\\AppData\\Local\\Programs\\Julia-1.7.1\\share\\julia\\stdlib\\v1.7\\SparseArrays\\src\\sparsematrix.jl:1777\n\u001b[0m  ...",
      "",
      "Stacktrace:",
      " [1] top-level scope",
      "   @ In[43]:2",
      " [2] eval",
      "   @ .\\boot.jl:373 [inlined]",
      " [3] include_string(mapexpr::typeof(REPL.softscope), mod::Module, code::String, filename::String)",
      "   @ Base .\\loading.jl:1196"
     ]
    }
   ],
   "source": [
    "# Check your answer\n",
    "M-L*U\n",
    "norm(M-L*U) # We have not covered norms of matrices and vectors yet in lecture, but\n",
    "            # but you can think of it as a genralized notion of ``length''. \n",
    "            # Hence, the norm will be small when all of the entries of the matrix are small\n",
    "            # A 100 x 100 matrix has 10,000 entries...a bit much to inspect one by one! "
   ]
  },
  {
   "cell_type": "code",
   "execution_count": null,
   "metadata": {},
   "outputs": [],
   "source": []
  }
 ],
 "metadata": {
  "celltoolbar": "Tags",
  "kernelspec": {
   "display_name": "Julia 1.7.1",
   "language": "julia",
   "name": "julia-1.7"
  },
  "language_info": {
   "file_extension": ".jl",
   "mimetype": "application/julia",
   "name": "julia",
   "version": "1.7.1"
  }
 },
 "nbformat": 4,
 "nbformat_minor": 4
}
